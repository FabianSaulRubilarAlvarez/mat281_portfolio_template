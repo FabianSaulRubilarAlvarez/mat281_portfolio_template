{
 "cells": [
  {
   "cell_type": "markdown",
   "metadata": {
    "cell_id": "00000-8615a79f-4c35-425e-9bee-8c5724f679f7",
    "deepnote_cell_type": "markdown",
    "slideshow": {
     "slide_type": "skip"
    }
   },
   "source": [
    "# Proyecto\n",
    "\n",
    "## Instrucciones\n",
    "\n",
    "1.- Completa los datos personales (nombre y rol USM) de cada integrante en siguiente celda.\n"
   ]
  },
  {
   "cell_type": "code",
   "execution_count": 1,
   "metadata": {
    "slideshow": {
     "slide_type": "skip"
    }
   },
   "outputs": [
    {
     "data": {
      "text/plain": [
       "{'width': 1024, 'height': 768, 'scroll': True}"
      ]
     },
     "execution_count": 1,
     "metadata": {},
     "output_type": "execute_result"
    }
   ],
   "source": [
    "from notebook.services.config import ConfigManager\n",
    "cm = ConfigManager()\n",
    "cm.update('livereveal', {\n",
    "        'width': 1024,\n",
    "        'height': 768,\n",
    "        'scroll': True,\n",
    "})"
   ]
  },
  {
   "cell_type": "markdown",
   "metadata": {
    "slideshow": {
     "slide_type": "slide"
    }
   },
   "source": [
    "## SISTEMAS DE RECOMENDACIÓN\n",
    "\n",
    "### APLICACIONES DE LA MATEMÁTICA EN INGENIERÍA MAT281"
   ]
  },
  {
   "cell_type": "markdown",
   "metadata": {
    "Collapsed": "false",
    "cell_id": "00001-269d08d4-ce11-49c1-9d70-1e82a42c271d",
    "deepnote_cell_type": "markdown",
    "slideshow": {
     "slide_type": "subslide"
    }
   },
   "source": [
    "* __Nombre-Rol__:\n",
    "\n",
    " * Jacson Aravena - 201510506-5\n",
    " * Pablo Calcumil - 201673563-1\n",
    " * Javier Pizarro - 201510520-0\n",
    " * Fabián Rubilar - 201510509-K \n",
    " * Martin Saieh - 201510527-8"
   ]
  },
  {
   "cell_type": "markdown",
   "metadata": {
    "cell_id": "00002-625447f1-9958-4808-9beb-d5dd838a259c",
    "deepnote_cell_type": "markdown",
    "slideshow": {
     "slide_type": "skip"
    }
   },
   "source": [
    "2.- Debes _pushear_ este archivo con tus cambios a tu repositorio personal del curso, incluyendo datos, imágenes, scripts, etc.\n",
    "\n",
    "3.- Se evaluará:\n",
    "    - Soluciones\n",
    "    - Código\n",
    "    - Que Binder esté bien configurado.\n",
    "    - Al presionar  `Kernel -> Restart Kernel and Run All Cells` deben ejecutarse todas las celdas sin error."
   ]
  },
  {
   "cell_type": "markdown",
   "metadata": {
    "cell_id": "00003-eff2a646-cb68-4ba1-9043-7557d1b79fb9",
    "deepnote_cell_type": "markdown",
    "slideshow": {
     "slide_type": "skip"
    }
   },
   "source": [
    "## I.- Sistemas de recomendación\n",
    "\n",
    "\n",
    "\n",
    "![rgb](https://i.kinja-img.com/gawker-media/image/upload/s--e3_2HgIC--/c_scale,f_auto,fl_progressive,q_80,w_800/1259003599478673704.jpg)\n",
    "\n",
    "### Introducción\n",
    "\n",
    "El rápido crecimiento de la recopilación de datos ha dado lugar a una nueva era de información. Los datos se están utilizando para crear sistemas más eficientes y aquí es donde entran en juego los sistemas de recomendación. Los sistemas de recomendación son un tipo de sistemas de filtrado de información, ya que mejoran la calidad de los resultados de búsqueda y proporcionan elementos que son más relevantes para el elemento de búsqueda o están relacionados con el historial de búsqueda del usuario.\n",
    "\n",
    "Se utilizan para predecir la calificación o preferencia que un usuario le daría a un artículo. Casi todas las grandes empresas de tecnología los han aplicado de una forma u otra: Amazon lo usa para sugerir productos a los clientes, YouTube lo usa para decidir qué video reproducir a continuación en reproducción automática y Facebook lo usa para recomendar páginas que me gusten y personas a seguir. Además, empresas como Netflix y Spotify dependen en gran medida de la efectividad de sus motores de recomendación para sus negocios y éxitos."
   ]
  },
  {
   "cell_type": "markdown",
   "metadata": {
    "slideshow": {
     "slide_type": "slide"
    }
   },
   "source": [
    "### Introducción\n",
    "\n",
    "El rápido crecimiento de la recopilación de datos ha dado lugar a una nueva era de información. Los datos se están utilizando para crear sistemas más eficientes y aquí es donde entran en juego los sistemas de recomendación. Los sistemas de recomendación son un tipo de sistemas de filtrado de información, ya que mejoran la calidad de los resultados de búsqueda y proporcionan elementos que son más relevantes para el elemento de búsqueda o están relacionados con el historial de búsqueda del usuario.\n"
   ]
  },
  {
   "cell_type": "markdown",
   "metadata": {
    "cell_id": "00004-1eb38561-e3d6-4fca-901d-fdf0dfa8c4b6",
    "deepnote_cell_type": "markdown",
    "slideshow": {
     "slide_type": "skip"
    }
   },
   "source": [
    "### Objetivos\n",
    "\n",
    "Poder realizar un proyecto de principio a fin ocupando todos los conocimientos aprendidos en clase.  Para ello deben cumplir con los siguientes objetivos:\n",
    "\n",
    "* **Desarrollo del problema**: Se les pide a partir de los datos, proponer al menos un tipo de sistemas de recomendación. Como todo buen proyecto de Machine Learning deben seguir el siguiente procedimiento:\n",
    " * **Lectura de los datos**: Describir el o los conjunto de datos en estudio.\n",
    " * **Procesamiento de los datos**: Procesar adecuadamente los datos en estudio. Para este caso ocuparan técnicas de [NLP](https://en.wikipedia.org/wiki/Natural_language_processing).\n",
    " * **Metodología**: Describir adecuadamente el procedimiento ocupado en cada uno de los modelos ocupados.\n",
    " * **Resultados**: Evaluar adecuadamente cada una de las métricas propuesta en este tipo de problemas.\n",
    " \n",
    " \n",
    "* **Presentación**: La presentación será levemente distinta a las anteriores, puesto que deberán ocupar la herramienta de Jupyter llamada [RISE](https://en.wikipedia.org/wiki/Natural_language_processing). Esta presentación debe durar aproximadamente entre 15-30 minutos, y deberán mandar sus videos (por youtube, google drive, etc.)\n",
    "\n",
    "### Evaluación\n",
    "\n",
    "* **Códigos**: Los códigos deben estar correctamente documentados (ocupando las *buenas prácticas* de python aprendidas en este curso).\n",
    "* **Explicación**: La explicación de la metodología empleada debe ser clara, precisa y concisa.\n",
    "* **Apoyo Visual**: Se espera que tengan la mayor cantidad de gráficos y/o tablas que puedan resumir adecuadamente todo el proceso realizado.\n",
    "\n",
    "\n",
    "\n",
    " \n"
   ]
  },
  {
   "cell_type": "markdown",
   "metadata": {
    "cell_id": "00005-84b55627-b6ce-48f6-9319-107191846d9e",
    "deepnote_cell_type": "markdown",
    "slideshow": {
     "slide_type": "skip"
    }
   },
   "source": [
    "### Esquema del proyecto\n",
    "\n",
    "El proyecto tendrá la siguiente estructura de trabajo:"
   ]
  },
  {
   "cell_type": "markdown",
   "metadata": {
    "cell_id": "00006-69e23bff-6571-46e5-920c-aad8f99e3471",
    "deepnote_cell_type": "markdown",
    "slideshow": {
     "slide_type": "skip"
    }
   },
   "source": [
    "```\n",
    "- project\n",
    "|\n",
    "|- data\n",
    "    |- tmdb_5000_credits.csv\n",
    "    |- tmdb_5000_movies.csv\n",
    "|- graficos.py\n",
    "|- lectura.py\n",
    "|- modelos.py\n",
    "|- preprocesamiento.py\n",
    "|- presentacion.ipynb\n",
    "|- project.ipynb\n",
    "\n",
    "```"
   ]
  },
  {
   "cell_type": "markdown",
   "metadata": {
    "cell_id": "00007-06d8db22-7d55-42de-9046-f2c4b0488dfa",
    "deepnote_cell_type": "markdown",
    "slideshow": {
     "slide_type": "skip"
    }
   },
   "source": [
    "donde:\n",
    "\n",
    "* `data`: carpeta con los datos del proyecto\n",
    "* `graficos.py`: módulo de gráficos \n",
    "* `lectura.py`: módulo de lectura de datos\n",
    "* `modelos.py`: módulo de modelos de Machine Learning utilizados\n",
    "* `preprocesamiento.py`: módulo de preprocesamiento de datos\n",
    "* `presentacion.ipynb`: presentación del proyecto (formato *RISE*)\n",
    "* `project.ipynb`: descripción del proyecto"
   ]
  },
  {
   "cell_type": "code",
   "execution_count": 2,
   "metadata": {
    "cell_id": "00008-0dda88fc-5124-421e-aefc-41b9e6e19060",
    "deepnote_cell_type": "code",
    "deepnote_to_be_reexecuted": false,
    "execution_millis": 2,
    "execution_start": 1609819844787,
    "slideshow": {
     "slide_type": "slide"
    },
    "source_hash": "a248b6f8",
    "tags": []
   },
   "outputs": [],
   "source": [
    "#Cargar Libreria\n",
    "import os\n",
    "import numpy as np\n",
    "import pandas as pd\n",
    "import matplotlib.pyplot as plt\n",
    "import seaborn as sns"
   ]
  },
  {
   "cell_type": "code",
   "execution_count": 3,
   "metadata": {
    "cell_id": "00009-ea28ef82-9832-4d02-8c17-c44729d2fbc4",
    "deepnote_cell_type": "code",
    "deepnote_to_be_reexecuted": false,
    "execution_millis": 429,
    "execution_start": 1609819845143,
    "slideshow": {
     "slide_type": "slide"
    },
    "source_hash": "a739d097",
    "tags": []
   },
   "outputs": [],
   "source": [
    "#Se llaman a los datos\n",
    "credits = pd.read_csv(os.path.join(\"data\",\"tmdb_5000_credits.csv\"), sep=\",\")\n",
    "movies=pd.read_csv(os.path.join(\"data\",\"tmdb_5000_movies.csv\"), sep=\",\")"
   ]
  },
  {
   "cell_type": "markdown",
   "metadata": {
    "cell_id": "00010-4a2a1f78-65b1-485b-bf21-ab0a27167155",
    "deepnote_cell_type": "markdown",
    "slideshow": {
     "slide_type": "slide"
    },
    "tags": []
   },
   "source": [
    "Para comprender un poco sobre los datos que estamos usando, haremos una descripción general de\n",
    "los DataFrame respectivos:"
   ]
  },
  {
   "cell_type": "markdown",
   "metadata": {
    "cell_id": "00010-e2e9312a-a2ff-415a-8e4c-9af82ab89f37",
    "deepnote_cell_type": "markdown",
    "slideshow": {
     "slide_type": "subslide"
    },
    "tags": []
   },
   "source": [
    "Descripción del Dataframe `Credits`:\n",
    "\n",
    "* `movie_id`: Id de la película.\n",
    "* `title`: Titulo de la película.\n",
    "* `cast`: Información de cada personaje de la película en un diccionario.\n",
    "* `crew`: Información de las personas que hicieron la producción de la película en un diccionario."
   ]
  },
  {
   "cell_type": "markdown",
   "metadata": {
    "cell_id": "00011-ae1d71fc-c1f2-4f6f-80d2-e1fac04d1889",
    "deepnote_cell_type": "markdown",
    "slideshow": {
     "slide_type": "subslide"
    },
    "tags": []
   },
   "source": [
    "Descripción del Dataframe `Movies`:\n",
    "\n",
    "* `budget`: Presupuesto para la producción de la película.\n",
    "* `genres`: Genero de la película.\n",
    "* `homepage`: Página web de la película.\n",
    "* `id`:Id de la película.\n",
    "* `keywords`: Características de la película.\n",
    "* `original_language`: Idioma de la película.\n",
    "* `original_title`: El título de la película antes de la traducción o adaptación.\n",
    "* `overview`: Descripción general de la película.\n",
    "* `popularity`: Popularidad de la película.\n",
    "* `production_companies`: Compañias productoras de la película.\n",
    "* `production_countries`: País o países donde se filmó de la película.\n",
    "* `release_date`: Fecha de lanzamiento de la película.\n",
    "* `revenue`: Ingresos de la película.\n",
    "* `runtime`: Duración de la película."
   ]
  },
  {
   "cell_type": "markdown",
   "metadata": {
    "cell_id": "00012-1c68a77c-4886-4173-b436-619deab9e374",
    "deepnote_cell_type": "markdown",
    "slideshow": {
     "slide_type": "slide"
    },
    "tags": []
   },
   "source": [
    "Los DataFrame tienen en común la columna `id`, por lo tanto, procederemos a unir los conjuntos\n",
    "de datos en un solo DataFrame llamado `df`."
   ]
  },
  {
   "cell_type": "code",
   "execution_count": 4,
   "metadata": {
    "cell_id": "00016-d7146304-1937-4aeb-b4ca-d133be6c84c6",
    "deepnote_cell_type": "code",
    "deepnote_to_be_reexecuted": false,
    "execution_millis": 134,
    "execution_start": 1609819847235,
    "slideshow": {
     "slide_type": "subslide"
    },
    "source_hash": "b0fa70c1",
    "tags": []
   },
   "outputs": [
    {
     "data": {
      "text/html": [
       "<div>\n",
       "<style scoped>\n",
       "    .dataframe tbody tr th:only-of-type {\n",
       "        vertical-align: middle;\n",
       "    }\n",
       "\n",
       "    .dataframe tbody tr th {\n",
       "        vertical-align: top;\n",
       "    }\n",
       "\n",
       "    .dataframe thead th {\n",
       "        text-align: right;\n",
       "    }\n",
       "</style>\n",
       "<table border=\"1\" class=\"dataframe\">\n",
       "  <thead>\n",
       "    <tr style=\"text-align: right;\">\n",
       "      <th></th>\n",
       "      <th>id</th>\n",
       "      <th>cast</th>\n",
       "      <th>crew</th>\n",
       "      <th>budget</th>\n",
       "      <th>genres</th>\n",
       "      <th>homepage</th>\n",
       "      <th>keywords</th>\n",
       "      <th>original_language</th>\n",
       "      <th>original_title</th>\n",
       "      <th>overview</th>\n",
       "      <th>...</th>\n",
       "      <th>production_countries</th>\n",
       "      <th>release_date</th>\n",
       "      <th>revenue</th>\n",
       "      <th>runtime</th>\n",
       "      <th>spoken_languages</th>\n",
       "      <th>status</th>\n",
       "      <th>tagline</th>\n",
       "      <th>title</th>\n",
       "      <th>vote_average</th>\n",
       "      <th>vote_count</th>\n",
       "    </tr>\n",
       "  </thead>\n",
       "  <tbody>\n",
       "    <tr>\n",
       "      <td>0</td>\n",
       "      <td>19995</td>\n",
       "      <td>[{\"cast_id\": 242, \"character\": \"Jake Sully\", \"...</td>\n",
       "      <td>[{\"credit_id\": \"52fe48009251416c750aca23\", \"de...</td>\n",
       "      <td>237000000</td>\n",
       "      <td>[{\"id\": 28, \"name\": \"Action\"}, {\"id\": 12, \"nam...</td>\n",
       "      <td>http://www.avatarmovie.com/</td>\n",
       "      <td>[{\"id\": 1463, \"name\": \"culture clash\"}, {\"id\":...</td>\n",
       "      <td>en</td>\n",
       "      <td>Avatar</td>\n",
       "      <td>In the 22nd century, a paraplegic Marine is di...</td>\n",
       "      <td>...</td>\n",
       "      <td>[{\"iso_3166_1\": \"US\", \"name\": \"United States o...</td>\n",
       "      <td>2009-12-10</td>\n",
       "      <td>2787965087</td>\n",
       "      <td>162.0</td>\n",
       "      <td>[{\"iso_639_1\": \"en\", \"name\": \"English\"}, {\"iso...</td>\n",
       "      <td>Released</td>\n",
       "      <td>Enter the World of Pandora.</td>\n",
       "      <td>Avatar</td>\n",
       "      <td>7.2</td>\n",
       "      <td>11800</td>\n",
       "    </tr>\n",
       "    <tr>\n",
       "      <td>1</td>\n",
       "      <td>285</td>\n",
       "      <td>[{\"cast_id\": 4, \"character\": \"Captain Jack Spa...</td>\n",
       "      <td>[{\"credit_id\": \"52fe4232c3a36847f800b579\", \"de...</td>\n",
       "      <td>300000000</td>\n",
       "      <td>[{\"id\": 12, \"name\": \"Adventure\"}, {\"id\": 14, \"...</td>\n",
       "      <td>http://disney.go.com/disneypictures/pirates/</td>\n",
       "      <td>[{\"id\": 270, \"name\": \"ocean\"}, {\"id\": 726, \"na...</td>\n",
       "      <td>en</td>\n",
       "      <td>Pirates of the Caribbean: At World's End</td>\n",
       "      <td>Captain Barbossa, long believed to be dead, ha...</td>\n",
       "      <td>...</td>\n",
       "      <td>[{\"iso_3166_1\": \"US\", \"name\": \"United States o...</td>\n",
       "      <td>2007-05-19</td>\n",
       "      <td>961000000</td>\n",
       "      <td>169.0</td>\n",
       "      <td>[{\"iso_639_1\": \"en\", \"name\": \"English\"}]</td>\n",
       "      <td>Released</td>\n",
       "      <td>At the end of the world, the adventure begins.</td>\n",
       "      <td>Pirates of the Caribbean: At World's End</td>\n",
       "      <td>6.9</td>\n",
       "      <td>4500</td>\n",
       "    </tr>\n",
       "    <tr>\n",
       "      <td>2</td>\n",
       "      <td>206647</td>\n",
       "      <td>[{\"cast_id\": 1, \"character\": \"James Bond\", \"cr...</td>\n",
       "      <td>[{\"credit_id\": \"54805967c3a36829b5002c41\", \"de...</td>\n",
       "      <td>245000000</td>\n",
       "      <td>[{\"id\": 28, \"name\": \"Action\"}, {\"id\": 12, \"nam...</td>\n",
       "      <td>http://www.sonypictures.com/movies/spectre/</td>\n",
       "      <td>[{\"id\": 470, \"name\": \"spy\"}, {\"id\": 818, \"name...</td>\n",
       "      <td>en</td>\n",
       "      <td>Spectre</td>\n",
       "      <td>A cryptic message from Bond’s past sends him o...</td>\n",
       "      <td>...</td>\n",
       "      <td>[{\"iso_3166_1\": \"GB\", \"name\": \"United Kingdom\"...</td>\n",
       "      <td>2015-10-26</td>\n",
       "      <td>880674609</td>\n",
       "      <td>148.0</td>\n",
       "      <td>[{\"iso_639_1\": \"fr\", \"name\": \"Fran\\u00e7ais\"},...</td>\n",
       "      <td>Released</td>\n",
       "      <td>A Plan No One Escapes</td>\n",
       "      <td>Spectre</td>\n",
       "      <td>6.3</td>\n",
       "      <td>4466</td>\n",
       "    </tr>\n",
       "    <tr>\n",
       "      <td>3</td>\n",
       "      <td>49026</td>\n",
       "      <td>[{\"cast_id\": 2, \"character\": \"Bruce Wayne / Ba...</td>\n",
       "      <td>[{\"credit_id\": \"52fe4781c3a36847f81398c3\", \"de...</td>\n",
       "      <td>250000000</td>\n",
       "      <td>[{\"id\": 28, \"name\": \"Action\"}, {\"id\": 80, \"nam...</td>\n",
       "      <td>http://www.thedarkknightrises.com/</td>\n",
       "      <td>[{\"id\": 849, \"name\": \"dc comics\"}, {\"id\": 853,...</td>\n",
       "      <td>en</td>\n",
       "      <td>The Dark Knight Rises</td>\n",
       "      <td>Following the death of District Attorney Harve...</td>\n",
       "      <td>...</td>\n",
       "      <td>[{\"iso_3166_1\": \"US\", \"name\": \"United States o...</td>\n",
       "      <td>2012-07-16</td>\n",
       "      <td>1084939099</td>\n",
       "      <td>165.0</td>\n",
       "      <td>[{\"iso_639_1\": \"en\", \"name\": \"English\"}]</td>\n",
       "      <td>Released</td>\n",
       "      <td>The Legend Ends</td>\n",
       "      <td>The Dark Knight Rises</td>\n",
       "      <td>7.6</td>\n",
       "      <td>9106</td>\n",
       "    </tr>\n",
       "    <tr>\n",
       "      <td>4</td>\n",
       "      <td>49529</td>\n",
       "      <td>[{\"cast_id\": 5, \"character\": \"John Carter\", \"c...</td>\n",
       "      <td>[{\"credit_id\": \"52fe479ac3a36847f813eaa3\", \"de...</td>\n",
       "      <td>260000000</td>\n",
       "      <td>[{\"id\": 28, \"name\": \"Action\"}, {\"id\": 12, \"nam...</td>\n",
       "      <td>http://movies.disney.com/john-carter</td>\n",
       "      <td>[{\"id\": 818, \"name\": \"based on novel\"}, {\"id\":...</td>\n",
       "      <td>en</td>\n",
       "      <td>John Carter</td>\n",
       "      <td>John Carter is a war-weary, former military ca...</td>\n",
       "      <td>...</td>\n",
       "      <td>[{\"iso_3166_1\": \"US\", \"name\": \"United States o...</td>\n",
       "      <td>2012-03-07</td>\n",
       "      <td>284139100</td>\n",
       "      <td>132.0</td>\n",
       "      <td>[{\"iso_639_1\": \"en\", \"name\": \"English\"}]</td>\n",
       "      <td>Released</td>\n",
       "      <td>Lost in our world, found in another.</td>\n",
       "      <td>John Carter</td>\n",
       "      <td>6.1</td>\n",
       "      <td>2124</td>\n",
       "    </tr>\n",
       "  </tbody>\n",
       "</table>\n",
       "<p>5 rows × 22 columns</p>\n",
       "</div>"
      ],
      "text/plain": [
       "       id                                               cast  \\\n",
       "0   19995  [{\"cast_id\": 242, \"character\": \"Jake Sully\", \"...   \n",
       "1     285  [{\"cast_id\": 4, \"character\": \"Captain Jack Spa...   \n",
       "2  206647  [{\"cast_id\": 1, \"character\": \"James Bond\", \"cr...   \n",
       "3   49026  [{\"cast_id\": 2, \"character\": \"Bruce Wayne / Ba...   \n",
       "4   49529  [{\"cast_id\": 5, \"character\": \"John Carter\", \"c...   \n",
       "\n",
       "                                                crew     budget  \\\n",
       "0  [{\"credit_id\": \"52fe48009251416c750aca23\", \"de...  237000000   \n",
       "1  [{\"credit_id\": \"52fe4232c3a36847f800b579\", \"de...  300000000   \n",
       "2  [{\"credit_id\": \"54805967c3a36829b5002c41\", \"de...  245000000   \n",
       "3  [{\"credit_id\": \"52fe4781c3a36847f81398c3\", \"de...  250000000   \n",
       "4  [{\"credit_id\": \"52fe479ac3a36847f813eaa3\", \"de...  260000000   \n",
       "\n",
       "                                              genres  \\\n",
       "0  [{\"id\": 28, \"name\": \"Action\"}, {\"id\": 12, \"nam...   \n",
       "1  [{\"id\": 12, \"name\": \"Adventure\"}, {\"id\": 14, \"...   \n",
       "2  [{\"id\": 28, \"name\": \"Action\"}, {\"id\": 12, \"nam...   \n",
       "3  [{\"id\": 28, \"name\": \"Action\"}, {\"id\": 80, \"nam...   \n",
       "4  [{\"id\": 28, \"name\": \"Action\"}, {\"id\": 12, \"nam...   \n",
       "\n",
       "                                       homepage  \\\n",
       "0                   http://www.avatarmovie.com/   \n",
       "1  http://disney.go.com/disneypictures/pirates/   \n",
       "2   http://www.sonypictures.com/movies/spectre/   \n",
       "3            http://www.thedarkknightrises.com/   \n",
       "4          http://movies.disney.com/john-carter   \n",
       "\n",
       "                                            keywords original_language  \\\n",
       "0  [{\"id\": 1463, \"name\": \"culture clash\"}, {\"id\":...                en   \n",
       "1  [{\"id\": 270, \"name\": \"ocean\"}, {\"id\": 726, \"na...                en   \n",
       "2  [{\"id\": 470, \"name\": \"spy\"}, {\"id\": 818, \"name...                en   \n",
       "3  [{\"id\": 849, \"name\": \"dc comics\"}, {\"id\": 853,...                en   \n",
       "4  [{\"id\": 818, \"name\": \"based on novel\"}, {\"id\":...                en   \n",
       "\n",
       "                             original_title  \\\n",
       "0                                    Avatar   \n",
       "1  Pirates of the Caribbean: At World's End   \n",
       "2                                   Spectre   \n",
       "3                     The Dark Knight Rises   \n",
       "4                               John Carter   \n",
       "\n",
       "                                            overview  ...  \\\n",
       "0  In the 22nd century, a paraplegic Marine is di...  ...   \n",
       "1  Captain Barbossa, long believed to be dead, ha...  ...   \n",
       "2  A cryptic message from Bond’s past sends him o...  ...   \n",
       "3  Following the death of District Attorney Harve...  ...   \n",
       "4  John Carter is a war-weary, former military ca...  ...   \n",
       "\n",
       "                                production_countries release_date     revenue  \\\n",
       "0  [{\"iso_3166_1\": \"US\", \"name\": \"United States o...   2009-12-10  2787965087   \n",
       "1  [{\"iso_3166_1\": \"US\", \"name\": \"United States o...   2007-05-19   961000000   \n",
       "2  [{\"iso_3166_1\": \"GB\", \"name\": \"United Kingdom\"...   2015-10-26   880674609   \n",
       "3  [{\"iso_3166_1\": \"US\", \"name\": \"United States o...   2012-07-16  1084939099   \n",
       "4  [{\"iso_3166_1\": \"US\", \"name\": \"United States o...   2012-03-07   284139100   \n",
       "\n",
       "  runtime                                   spoken_languages    status  \\\n",
       "0   162.0  [{\"iso_639_1\": \"en\", \"name\": \"English\"}, {\"iso...  Released   \n",
       "1   169.0           [{\"iso_639_1\": \"en\", \"name\": \"English\"}]  Released   \n",
       "2   148.0  [{\"iso_639_1\": \"fr\", \"name\": \"Fran\\u00e7ais\"},...  Released   \n",
       "3   165.0           [{\"iso_639_1\": \"en\", \"name\": \"English\"}]  Released   \n",
       "4   132.0           [{\"iso_639_1\": \"en\", \"name\": \"English\"}]  Released   \n",
       "\n",
       "                                          tagline  \\\n",
       "0                     Enter the World of Pandora.   \n",
       "1  At the end of the world, the adventure begins.   \n",
       "2                           A Plan No One Escapes   \n",
       "3                                 The Legend Ends   \n",
       "4            Lost in our world, found in another.   \n",
       "\n",
       "                                      title vote_average vote_count  \n",
       "0                                    Avatar          7.2      11800  \n",
       "1  Pirates of the Caribbean: At World's End          6.9       4500  \n",
       "2                                   Spectre          6.3       4466  \n",
       "3                     The Dark Knight Rises          7.6       9106  \n",
       "4                               John Carter          6.1       2124  \n",
       "\n",
       "[5 rows x 22 columns]"
      ]
     },
     "execution_count": 4,
     "metadata": {},
     "output_type": "execute_result"
    }
   ],
   "source": [
    "credits = credits.rename(columns={'movie_id':'id'})\n",
    "df = pd.merge(credits, movies, on='id')\n",
    "df = df.drop(['title_x'],axis=1)\n",
    "df = df.rename(columns={'title_y':'title'})\n",
    "df.head()"
   ]
  },
  {
   "cell_type": "code",
   "execution_count": 5,
   "metadata": {
    "cell_id": "00017-5646df9d-7be7-4936-a1a3-c829f74a3a2d",
    "deepnote_cell_type": "code",
    "deepnote_to_be_reexecuted": false,
    "execution_millis": 3,
    "execution_start": 1609819847937,
    "slideshow": {
     "slide_type": "slide"
    },
    "source_hash": "52430027",
    "tags": []
   },
   "outputs": [
    {
     "data": {
      "text/plain": [
       "id                        int64\n",
       "cast                     object\n",
       "crew                     object\n",
       "budget                    int64\n",
       "genres                   object\n",
       "homepage                 object\n",
       "keywords                 object\n",
       "original_language        object\n",
       "original_title           object\n",
       "overview                 object\n",
       "popularity              float64\n",
       "production_companies     object\n",
       "production_countries     object\n",
       "release_date             object\n",
       "revenue                   int64\n",
       "runtime                 float64\n",
       "spoken_languages         object\n",
       "status                   object\n",
       "tagline                  object\n",
       "title                    object\n",
       "vote_average            float64\n",
       "vote_count                int64\n",
       "dtype: object"
      ]
     },
     "execution_count": 5,
     "metadata": {},
     "output_type": "execute_result"
    }
   ],
   "source": [
    "df.dtypes"
   ]
  },
  {
   "cell_type": "markdown",
   "metadata": {
    "cell_id": "00018-ce02dc91-174c-4d35-9149-219fdcf48989",
    "deepnote_cell_type": "markdown",
    "slideshow": {
     "slide_type": "slide"
    },
    "tags": []
   },
   "source": [
    "Se identifica la película de `id=4553` con problemas, pues no contiene nada de información."
   ]
  },
  {
   "cell_type": "code",
   "execution_count": 6,
   "metadata": {
    "cell_id": "00017-4ce327b9-84ca-49b6-b30f-08b33c3d0449",
    "deepnote_cell_type": "code",
    "deepnote_to_be_reexecuted": false,
    "execution_millis": 7,
    "execution_start": 1609819849384,
    "slideshow": {
     "slide_type": "subslide"
    },
    "source_hash": "70be74bb",
    "tags": []
   },
   "outputs": [],
   "source": [
    "df=df.drop([4553],axis=0)"
   ]
  },
  {
   "cell_type": "code",
   "execution_count": 7,
   "metadata": {
    "cell_id": "00017-0af5e329-5e8e-40c2-948b-efa8e8a80870",
    "deepnote_cell_type": "code",
    "deepnote_to_be_reexecuted": false,
    "execution_millis": 59,
    "execution_start": 1609819850190,
    "slideshow": {
     "slide_type": "subslide"
    },
    "source_hash": "1d6194b1",
    "tags": []
   },
   "outputs": [
    {
     "data": {
      "text/html": [
       "<div>\n",
       "<style scoped>\n",
       "    .dataframe tbody tr th:only-of-type {\n",
       "        vertical-align: middle;\n",
       "    }\n",
       "\n",
       "    .dataframe tbody tr th {\n",
       "        vertical-align: top;\n",
       "    }\n",
       "\n",
       "    .dataframe thead th {\n",
       "        text-align: right;\n",
       "    }\n",
       "</style>\n",
       "<table border=\"1\" class=\"dataframe\">\n",
       "  <thead>\n",
       "    <tr style=\"text-align: right;\">\n",
       "      <th></th>\n",
       "      <th>id</th>\n",
       "      <th>cast</th>\n",
       "      <th>crew</th>\n",
       "      <th>budget</th>\n",
       "      <th>genres</th>\n",
       "      <th>homepage</th>\n",
       "      <th>keywords</th>\n",
       "      <th>original_language</th>\n",
       "      <th>original_title</th>\n",
       "      <th>overview</th>\n",
       "      <th>...</th>\n",
       "      <th>production_countries</th>\n",
       "      <th>release_date</th>\n",
       "      <th>revenue</th>\n",
       "      <th>runtime</th>\n",
       "      <th>spoken_languages</th>\n",
       "      <th>status</th>\n",
       "      <th>tagline</th>\n",
       "      <th>title</th>\n",
       "      <th>vote_average</th>\n",
       "      <th>vote_count</th>\n",
       "    </tr>\n",
       "  </thead>\n",
       "  <tbody>\n",
       "  </tbody>\n",
       "</table>\n",
       "<p>0 rows × 22 columns</p>\n",
       "</div>"
      ],
      "text/plain": [
       "Empty DataFrame\n",
       "Columns: [id, cast, crew, budget, genres, homepage, keywords, original_language, original_title, overview, popularity, production_companies, production_countries, release_date, revenue, runtime, spoken_languages, status, tagline, title, vote_average, vote_count]\n",
       "Index: []\n",
       "\n",
       "[0 rows x 22 columns]"
      ]
     },
     "execution_count": 7,
     "metadata": {},
     "output_type": "execute_result"
    }
   ],
   "source": [
    "df[df['release_date'].isnull()]"
   ]
  },
  {
   "cell_type": "markdown",
   "metadata": {
    "cell_id": "00022-451b6420-4f8f-4451-9bd4-3e5f515eb28c",
    "deepnote_cell_type": "markdown",
    "slideshow": {
     "slide_type": "slide"
    },
    "tags": []
   },
   "source": [
    "Se agrega la columna `year` que indica la fecha de lanzamiento de la pelicula."
   ]
  },
  {
   "cell_type": "code",
   "execution_count": 8,
   "metadata": {
    "cell_id": "00017-a95ccc8c-75b1-43c9-9135-93cd99f1ada1",
    "deepnote_cell_type": "code",
    "deepnote_to_be_reexecuted": false,
    "execution_millis": 5,
    "execution_start": 1609819851686,
    "slideshow": {
     "slide_type": "subslide"
    },
    "source_hash": "eedf6068",
    "tags": []
   },
   "outputs": [],
   "source": [
    "year = [str(anho)[0:4] for anho in list(df['release_date'].values)]\n",
    "df['year'] = year\n",
    "df['year']=df['year'].astype(int)"
   ]
  },
  {
   "cell_type": "code",
   "execution_count": 9,
   "metadata": {
    "cell_id": "00018-1f1c6ec7-dcd7-429b-9fd1-7bfb40b36eca",
    "deepnote_cell_type": "code",
    "deepnote_to_be_reexecuted": false,
    "execution_millis": 410,
    "execution_start": 1609819852731,
    "slideshow": {
     "slide_type": "skip"
    },
    "source_hash": "45ed8e25",
    "tags": []
   },
   "outputs": [
    {
     "data": {
      "text/plain": [
       "<matplotlib.axes._subplots.AxesSubplot at 0x296eec2da08>"
      ]
     },
     "execution_count": 9,
     "metadata": {},
     "output_type": "execute_result"
    },
    {
     "data": {
      "image/png": "[encoded data removed]",
      "text/plain": [
       "<Figure size 1152x1152 with 2 Axes>"
      ]
     },
     "metadata": {
      "needs_background": "light"
     },
     "output_type": "display_data"
    }
   ],
   "source": [
    "from sklearn.preprocessing import StandardScaler\n",
    "\n",
    "df_nums = df[['budget', 'popularity', 'revenue', 'runtime', 'vote_average', 'vote_count']]\n",
    "transform = StandardScaler().fit_transform(df_nums)\n",
    "\n",
    "df_normalizado = pd.DataFrame(transform, columns = df_nums.columns)\n",
    "\n",
    "fig = plt.figure(figsize = (16,16))\n",
    "sns.set(font_scale=1)\n",
    "\n",
    "mask = np.triu(np.ones_like(df_normalizado.corr(), dtype = bool))\n",
    "\n",
    "sns.heatmap(df_normalizado.corr().round(2), #Redondeo\n",
    "            mask = mask,\n",
    "            annot = True, fmt = 'g')"
   ]
  },
  {
   "cell_type": "code",
   "execution_count": 10,
   "metadata": {
    "slideshow": {
     "slide_type": "subslide"
    }
   },
   "outputs": [
    {
     "data": {
      "image/png": "[encoded data removed]",
      "text/plain": [
       "<Figure size 432x288 with 2 Axes>"
      ]
     },
     "metadata": {},
     "output_type": "display_data"
    }
   ],
   "source": [
    "gr_calor = sns.heatmap(df_normalizado.corr().round(2), #Redondeo\n",
    "            mask = mask,\n",
    "            annot = True, fmt = 'g')"
   ]
  },
  {
   "cell_type": "markdown",
   "metadata": {
    "cell_id": "00015-3a12b154-75bc-4a3e-b40e-c8b809b79861",
    "deepnote_cell_type": "markdown",
    "slideshow": {
     "slide_type": "slide"
    },
    "tags": []
   },
   "source": [
    "## Filtración demográfica"
   ]
  },
  {
   "cell_type": "markdown",
   "metadata": {
    "cell_id": "00013-92d2991a-c064-4974-a9b5-789c8393e162",
    "deepnote_cell_type": "markdown",
    "slideshow": {
     "slide_type": "subslide"
    },
    "tags": []
   },
   "source": [
    "Necesitamos un tipo de Score que califique las películas e identifique las mejores según las reacciones de las personas. Un indicador \n",
    "claro podría ser `vote_average`, sin embargo, puede ser no representativo para aquellas películas que tienen pocos votos. Se propone utilizar un\n",
    "indicador ponderado, definido por:\n",
    "\n",
    "$$ WS = R(\\frac{v}{v+m})+C(\\frac{m}{v+m}) $$\n",
    "\n",
    "donde $v$ corresponde al número de votos para la película, $m$ es el mínimo de votos requeridos para ser candidato, $R$ es la valorización promedio que tiene la película\n",
    "y $C$ es el promedio de los votos promedio de todas las películas."
   ]
  },
  {
   "cell_type": "markdown",
   "metadata": {
    "cell_id": "00017-0ebe9b9f-4c81-438e-96a4-ac256542226e",
    "deepnote_cell_type": "markdown",
    "slideshow": {
     "slide_type": "slide"
    },
    "tags": []
   },
   "source": [
    "Ahora procedemos a calcular las variables que necesitamos para trabajar con el indicador\n",
    "ponderado:"
   ]
  },
  {
   "cell_type": "code",
   "execution_count": 11,
   "metadata": {
    "cell_id": "00014-4510903a-cc1d-48e1-8bfc-97ebe4fb736c",
    "deepnote_cell_type": "code",
    "deepnote_to_be_reexecuted": false,
    "execution_millis": 5,
    "execution_start": 1609819856170,
    "slideshow": {
     "slide_type": "subslide"
    },
    "source_hash": "1c559a16",
    "tags": []
   },
   "outputs": [
    {
     "name": "stdout",
     "output_type": "stream",
     "text": [
      "El valor de C es: 6.093440233236147\n"
     ]
    }
   ],
   "source": [
    "C = df['vote_average'].mean() #peliculas tienen en promedio nota 6\n",
    "print('El valor de C es:',C)"
   ]
  },
  {
   "cell_type": "markdown",
   "metadata": {
    "cell_id": "00019-3114e59e-e3ab-4cac-856f-b2086537fffe",
    "deepnote_cell_type": "markdown",
    "slideshow": {
     "slide_type": "subslide"
    },
    "tags": []
   },
   "source": [
    "Así vemos que la nota media para todas las películas tiene un valor aproximado de $6.1$ en\n",
    "una escala de $1$ a $10$. \n",
    "\n",
    "Luego, hay que calcular un valor para `m`, que se define como los votos mínimos para aparecer \n",
    "en la tabla de datos. Para esto, es sensato usar el percentil $90$ como límite. Esto es, para \n",
    "que una película aparezca en la lista, debe tener más votos que al menos el $90\\%$ de todas\n",
    "las películas."
   ]
  },
  {
   "cell_type": "code",
   "execution_count": 12,
   "metadata": {
    "cell_id": "00020-c1fa341e-bfca-41ac-9630-f66a4f949e71",
    "deepnote_cell_type": "code",
    "deepnote_to_be_reexecuted": false,
    "execution_millis": 3,
    "execution_start": 1609819856980,
    "slideshow": {
     "slide_type": "subslide"
    },
    "source_hash": "acfc4bfa",
    "tags": []
   },
   "outputs": [
    {
     "name": "stdout",
     "output_type": "stream",
     "text": [
      "El valor de m es: 1839.2000000000044\n"
     ]
    }
   ],
   "source": [
    "m = df['vote_count'].quantile(0.9) #se busca filtrar peliculas que tengan menos votos que el 90% de las peliculas en la lista\n",
    "print('El valor de m es:', m)"
   ]
  },
  {
   "cell_type": "markdown",
   "metadata": {
    "cell_id": "00021-de21ef76-aed1-4cac-908e-310672655e67",
    "deepnote_cell_type": "markdown",
    "slideshow": {
     "slide_type": "subslide"
    },
    "tags": []
   },
   "source": [
    "Por lo tanto, ahora podemos filtrar las películas que califican según el criterio respectivo."
   ]
  },
  {
   "cell_type": "code",
   "execution_count": 13,
   "metadata": {
    "cell_id": "00022-d36f95db-03bb-43fa-9740-d77ffd50269a",
    "deepnote_cell_type": "code",
    "deepnote_to_be_reexecuted": false,
    "execution_millis": 7,
    "execution_start": 1609819858411,
    "slideshow": {
     "slide_type": "subslide"
    },
    "source_hash": "cf2c8e43",
    "tags": []
   },
   "outputs": [
    {
     "data": {
      "text/plain": [
       "(481, 23)"
      ]
     },
     "execution_count": 13,
     "metadata": {},
     "output_type": "execute_result"
    }
   ],
   "source": [
    "q_movies = df.copy().loc[ df['vote_count'] >= m]\n",
    "q_movies.shape"
   ]
  },
  {
   "cell_type": "markdown",
   "metadata": {
    "cell_id": "00015-967dc02d-130c-41c7-9dcb-016a6606a47b",
    "deepnote_cell_type": "markdown",
    "slideshow": {
     "slide_type": "subslide"
    },
    "tags": []
   },
   "source": [
    "Ahora, necesitamos calcular una métrica para cada unas de las $481$ películas seleccionadas.\n",
    "Para esto, definimos una función `ws`."
   ]
  },
  {
   "cell_type": "code",
   "execution_count": 14,
   "metadata": {
    "cell_id": "00016-2ed52881-dc01-456d-910a-30d2b4e6effb",
    "deepnote_cell_type": "code",
    "deepnote_to_be_reexecuted": false,
    "execution_millis": 2,
    "execution_start": 1609819861267,
    "slideshow": {
     "slide_type": "subslide"
    },
    "source_hash": "d72738d0",
    "tags": []
   },
   "outputs": [],
   "source": [
    "def ws(x,m=m,C=C):\n",
    "    v = x['vote_count']\n",
    "    R = x['vote_average']\n",
    "    return ( v/(v+m) )*R + (m/(m+v))*C"
   ]
  },
  {
   "cell_type": "markdown",
   "metadata": {
    "cell_id": "00017-91ba4186-f03c-47dc-ab3a-0ef085ab50ce",
    "deepnote_cell_type": "markdown",
    "slideshow": {
     "slide_type": "subslide"
    },
    "tags": []
   },
   "source": [
    "Definimos una nueva columna en `q_movies` de nombre `score`, con su respectivo score `ws` \n",
    "para luego ordenar nuevamente los datos en base a dicho valor. Luego, clasificamos el\n",
    "DataFrame según la función de puntuación y se procede a generar título, recuento de votos, \n",
    "promedio de votos y la clasificación ponderada de las mejores películas."
   ]
  },
  {
   "cell_type": "code",
   "execution_count": 15,
   "metadata": {
    "cell_id": "00018-3c9def7f-035e-472a-b3ed-19bba0c81399",
    "deepnote_cell_type": "code",
    "deepnote_to_be_reexecuted": false,
    "execution_millis": 6,
    "execution_start": 1609819863014,
    "slideshow": {
     "slide_type": "subslide"
    },
    "source_hash": "14547166",
    "tags": []
   },
   "outputs": [
    {
     "data": {
      "text/html": [
       "<div>\n",
       "<style scoped>\n",
       "    .dataframe tbody tr th:only-of-type {\n",
       "        vertical-align: middle;\n",
       "    }\n",
       "\n",
       "    .dataframe tbody tr th {\n",
       "        vertical-align: top;\n",
       "    }\n",
       "\n",
       "    .dataframe thead th {\n",
       "        text-align: right;\n",
       "    }\n",
       "</style>\n",
       "<table border=\"1\" class=\"dataframe\">\n",
       "  <thead>\n",
       "    <tr style=\"text-align: right;\">\n",
       "      <th></th>\n",
       "      <th>title</th>\n",
       "      <th>vote_count</th>\n",
       "      <th>vote_average</th>\n",
       "      <th>score</th>\n",
       "    </tr>\n",
       "  </thead>\n",
       "  <tbody>\n",
       "    <tr>\n",
       "      <td>1881</td>\n",
       "      <td>The Shawshank Redemption</td>\n",
       "      <td>8205</td>\n",
       "      <td>8.5</td>\n",
       "      <td>8.059333</td>\n",
       "    </tr>\n",
       "    <tr>\n",
       "      <td>662</td>\n",
       "      <td>Fight Club</td>\n",
       "      <td>9413</td>\n",
       "      <td>8.3</td>\n",
       "      <td>7.939332</td>\n",
       "    </tr>\n",
       "    <tr>\n",
       "      <td>65</td>\n",
       "      <td>The Dark Knight</td>\n",
       "      <td>12002</td>\n",
       "      <td>8.2</td>\n",
       "      <td>7.920083</td>\n",
       "    </tr>\n",
       "    <tr>\n",
       "      <td>3232</td>\n",
       "      <td>Pulp Fiction</td>\n",
       "      <td>8428</td>\n",
       "      <td>8.3</td>\n",
       "      <td>7.904731</td>\n",
       "    </tr>\n",
       "    <tr>\n",
       "      <td>96</td>\n",
       "      <td>Inception</td>\n",
       "      <td>13752</td>\n",
       "      <td>8.1</td>\n",
       "      <td>7.863298</td>\n",
       "    </tr>\n",
       "    <tr>\n",
       "      <td>3337</td>\n",
       "      <td>The Godfather</td>\n",
       "      <td>5893</td>\n",
       "      <td>8.4</td>\n",
       "      <td>7.851356</td>\n",
       "    </tr>\n",
       "    <tr>\n",
       "      <td>95</td>\n",
       "      <td>Interstellar</td>\n",
       "      <td>10867</td>\n",
       "      <td>8.1</td>\n",
       "      <td>7.809554</td>\n",
       "    </tr>\n",
       "    <tr>\n",
       "      <td>809</td>\n",
       "      <td>Forrest Gump</td>\n",
       "      <td>7927</td>\n",
       "      <td>8.2</td>\n",
       "      <td>7.803286</td>\n",
       "    </tr>\n",
       "    <tr>\n",
       "      <td>329</td>\n",
       "      <td>The Lord of the Rings: The Return of the King</td>\n",
       "      <td>8064</td>\n",
       "      <td>8.1</td>\n",
       "      <td>7.727346</td>\n",
       "    </tr>\n",
       "    <tr>\n",
       "      <td>1990</td>\n",
       "      <td>The Empire Strikes Back</td>\n",
       "      <td>5879</td>\n",
       "      <td>8.2</td>\n",
       "      <td>7.698020</td>\n",
       "    </tr>\n",
       "    <tr>\n",
       "      <td>262</td>\n",
       "      <td>The Lord of the Rings: The Fellowship of the Ring</td>\n",
       "      <td>8705</td>\n",
       "      <td>8.0</td>\n",
       "      <td>7.667443</td>\n",
       "    </tr>\n",
       "    <tr>\n",
       "      <td>2912</td>\n",
       "      <td>Star Wars</td>\n",
       "      <td>6624</td>\n",
       "      <td>8.1</td>\n",
       "      <td>7.663940</td>\n",
       "    </tr>\n",
       "    <tr>\n",
       "      <td>1818</td>\n",
       "      <td>Schindler's List</td>\n",
       "      <td>4329</td>\n",
       "      <td>8.3</td>\n",
       "      <td>7.642060</td>\n",
       "    </tr>\n",
       "    <tr>\n",
       "      <td>3865</td>\n",
       "      <td>Whiplash</td>\n",
       "      <td>4254</td>\n",
       "      <td>8.3</td>\n",
       "      <td>7.633962</td>\n",
       "    </tr>\n",
       "    <tr>\n",
       "      <td>330</td>\n",
       "      <td>The Lord of the Rings: The Two Towers</td>\n",
       "      <td>7487</td>\n",
       "      <td>8.0</td>\n",
       "      <td>7.624011</td>\n",
       "    </tr>\n",
       "  </tbody>\n",
       "</table>\n",
       "</div>"
      ],
      "text/plain": [
       "                                                  title  vote_count  \\\n",
       "1881                           The Shawshank Redemption        8205   \n",
       "662                                          Fight Club        9413   \n",
       "65                                      The Dark Knight       12002   \n",
       "3232                                       Pulp Fiction        8428   \n",
       "96                                            Inception       13752   \n",
       "3337                                      The Godfather        5893   \n",
       "95                                         Interstellar       10867   \n",
       "809                                        Forrest Gump        7927   \n",
       "329       The Lord of the Rings: The Return of the King        8064   \n",
       "1990                            The Empire Strikes Back        5879   \n",
       "262   The Lord of the Rings: The Fellowship of the Ring        8705   \n",
       "2912                                          Star Wars        6624   \n",
       "1818                                   Schindler's List        4329   \n",
       "3865                                           Whiplash        4254   \n",
       "330               The Lord of the Rings: The Two Towers        7487   \n",
       "\n",
       "      vote_average     score  \n",
       "1881           8.5  8.059333  \n",
       "662            8.3  7.939332  \n",
       "65             8.2  7.920083  \n",
       "3232           8.3  7.904731  \n",
       "96             8.1  7.863298  \n",
       "3337           8.4  7.851356  \n",
       "95             8.1  7.809554  \n",
       "809            8.2  7.803286  \n",
       "329            8.1  7.727346  \n",
       "1990           8.2  7.698020  \n",
       "262            8.0  7.667443  \n",
       "2912           8.1  7.663940  \n",
       "1818           8.3  7.642060  \n",
       "3865           8.3  7.633962  \n",
       "330            8.0  7.624011  "
      ]
     },
     "execution_count": 15,
     "metadata": {},
     "output_type": "execute_result"
    }
   ],
   "source": [
    "q_movies['score'] = q_movies.apply(ws,axis=1)\n",
    "q_movies = q_movies.sort_values('score', ascending=False)\n",
    "q_movies[ ['title','vote_count','vote_average','score'] ].head(15)"
   ]
  },
  {
   "cell_type": "markdown",
   "metadata": {
    "cell_id": "00019-39cf4650-4322-4bd8-bd54-c54c86755209",
    "deepnote_cell_type": "markdown",
    "slideshow": {
     "slide_type": "slide"
    },
    "tags": []
   },
   "source": [
    "Pero hay que observar que también hay otras opciones, por ejemplo, se podría agregar a esta \n",
    "lista, películas ordenadas también por su `popularidad`."
   ]
  },
  {
   "cell_type": "code",
   "execution_count": 16,
   "metadata": {
    "cell_id": "00019-6d1f5157-1312-475a-91bd-d74bc24066e5",
    "deepnote_cell_type": "code",
    "deepnote_to_be_reexecuted": false,
    "execution_millis": 48,
    "execution_start": 1609820342950,
    "slideshow": {
     "slide_type": "subslide"
    },
    "source_hash": "368edb49",
    "tags": []
   },
   "outputs": [
    {
     "data": {
      "text/html": [
       "<div>\n",
       "<style scoped>\n",
       "    .dataframe tbody tr th:only-of-type {\n",
       "        vertical-align: middle;\n",
       "    }\n",
       "\n",
       "    .dataframe tbody tr th {\n",
       "        vertical-align: top;\n",
       "    }\n",
       "\n",
       "    .dataframe thead th {\n",
       "        text-align: right;\n",
       "    }\n",
       "</style>\n",
       "<table border=\"1\" class=\"dataframe\">\n",
       "  <thead>\n",
       "    <tr style=\"text-align: right;\">\n",
       "      <th></th>\n",
       "      <th>title</th>\n",
       "      <th>vote_count</th>\n",
       "      <th>vote_average</th>\n",
       "      <th>score</th>\n",
       "      <th>popularity</th>\n",
       "    </tr>\n",
       "  </thead>\n",
       "  <tbody>\n",
       "    <tr>\n",
       "      <td>546</td>\n",
       "      <td>Minions</td>\n",
       "      <td>4571</td>\n",
       "      <td>6.4</td>\n",
       "      <td>6.312043</td>\n",
       "      <td>875.581305</td>\n",
       "    </tr>\n",
       "    <tr>\n",
       "      <td>95</td>\n",
       "      <td>Interstellar</td>\n",
       "      <td>10867</td>\n",
       "      <td>8.1</td>\n",
       "      <td>7.809554</td>\n",
       "      <td>724.247784</td>\n",
       "    </tr>\n",
       "    <tr>\n",
       "      <td>788</td>\n",
       "      <td>Deadpool</td>\n",
       "      <td>10995</td>\n",
       "      <td>7.4</td>\n",
       "      <td>7.212764</td>\n",
       "      <td>514.569956</td>\n",
       "    </tr>\n",
       "    <tr>\n",
       "      <td>94</td>\n",
       "      <td>Guardians of the Galaxy</td>\n",
       "      <td>9742</td>\n",
       "      <td>7.9</td>\n",
       "      <td>7.613102</td>\n",
       "      <td>481.098624</td>\n",
       "    </tr>\n",
       "    <tr>\n",
       "      <td>127</td>\n",
       "      <td>Mad Max: Fury Road</td>\n",
       "      <td>9427</td>\n",
       "      <td>7.2</td>\n",
       "      <td>7.019355</td>\n",
       "      <td>434.278564</td>\n",
       "    </tr>\n",
       "    <tr>\n",
       "      <td>28</td>\n",
       "      <td>Jurassic World</td>\n",
       "      <td>8662</td>\n",
       "      <td>6.5</td>\n",
       "      <td>6.428794</td>\n",
       "      <td>418.708552</td>\n",
       "    </tr>\n",
       "    <tr>\n",
       "      <td>199</td>\n",
       "      <td>Pirates of the Caribbean: The Curse of the Bla...</td>\n",
       "      <td>6985</td>\n",
       "      <td>7.5</td>\n",
       "      <td>7.206835</td>\n",
       "      <td>271.972889</td>\n",
       "    </tr>\n",
       "    <tr>\n",
       "      <td>82</td>\n",
       "      <td>Dawn of the Planet of the Apes</td>\n",
       "      <td>4410</td>\n",
       "      <td>7.3</td>\n",
       "      <td>6.944898</td>\n",
       "      <td>243.791743</td>\n",
       "    </tr>\n",
       "    <tr>\n",
       "      <td>200</td>\n",
       "      <td>The Hunger Games: Mockingjay - Part 1</td>\n",
       "      <td>5584</td>\n",
       "      <td>6.6</td>\n",
       "      <td>6.474493</td>\n",
       "      <td>206.227151</td>\n",
       "    </tr>\n",
       "    <tr>\n",
       "      <td>88</td>\n",
       "      <td>Big Hero 6</td>\n",
       "      <td>6135</td>\n",
       "      <td>7.8</td>\n",
       "      <td>7.406393</td>\n",
       "      <td>203.734590</td>\n",
       "    </tr>\n",
       "  </tbody>\n",
       "</table>\n",
       "</div>"
      ],
      "text/plain": [
       "                                                 title  vote_count  \\\n",
       "546                                            Minions        4571   \n",
       "95                                        Interstellar       10867   \n",
       "788                                           Deadpool       10995   \n",
       "94                             Guardians of the Galaxy        9742   \n",
       "127                                 Mad Max: Fury Road        9427   \n",
       "28                                      Jurassic World        8662   \n",
       "199  Pirates of the Caribbean: The Curse of the Bla...        6985   \n",
       "82                      Dawn of the Planet of the Apes        4410   \n",
       "200              The Hunger Games: Mockingjay - Part 1        5584   \n",
       "88                                          Big Hero 6        6135   \n",
       "\n",
       "     vote_average     score  popularity  \n",
       "546           6.4  6.312043  875.581305  \n",
       "95            8.1  7.809554  724.247784  \n",
       "788           7.4  7.212764  514.569956  \n",
       "94            7.9  7.613102  481.098624  \n",
       "127           7.2  7.019355  434.278564  \n",
       "28            6.5  6.428794  418.708552  \n",
       "199           7.5  7.206835  271.972889  \n",
       "82            7.3  6.944898  243.791743  \n",
       "200           6.6  6.474493  206.227151  \n",
       "88            7.8  7.406393  203.734590  "
      ]
     },
     "execution_count": 16,
     "metadata": {},
     "output_type": "execute_result"
    }
   ],
   "source": [
    "q_movies.sort_values('popularity',axis=0,ascending=False)[ ['title','vote_count','vote_average','score','popularity'] ].head(10)"
   ]
  },
  {
   "cell_type": "markdown",
   "metadata": {
    "cell_id": "00038-aa7257e1-c927-4251-9906-d758a05a0a50",
    "deepnote_cell_type": "markdown",
    "slideshow": {
     "slide_type": "slide"
    },
    "tags": []
   },
   "source": [
    "## Filtración basada en estrenos"
   ]
  },
  {
   "cell_type": "markdown",
   "metadata": {
    "cell_id": "00039-dcfc2523-b842-49e9-8cc6-751c8e92ec05",
    "deepnote_cell_type": "markdown",
    "slideshow": {
     "slide_type": "subslide"
    },
    "tags": []
   },
   "source": [
    "Se puede aplicar el filtro anterior después de aplicar un filtro por año para determinar los mejores estrenos. Considerando que la película más reciente es del `2017`, se considerarán estrenos todas aquellas películas del `2015` en adelante."
   ]
  },
  {
   "cell_type": "code",
   "execution_count": 17,
   "metadata": {
    "cell_id": "00040-62d33fbc-2270-4d78-ad57-94b3c48e1b04",
    "deepnote_cell_type": "code",
    "deepnote_to_be_reexecuted": false,
    "execution_millis": 28,
    "execution_start": 1609820392397,
    "slideshow": {
     "slide_type": "subslide"
    },
    "source_hash": "2239d26b",
    "tags": []
   },
   "outputs": [
    {
     "data": {
      "text/html": [
       "<div>\n",
       "<style scoped>\n",
       "    .dataframe tbody tr th:only-of-type {\n",
       "        vertical-align: middle;\n",
       "    }\n",
       "\n",
       "    .dataframe tbody tr th {\n",
       "        vertical-align: top;\n",
       "    }\n",
       "\n",
       "    .dataframe thead th {\n",
       "        text-align: right;\n",
       "    }\n",
       "</style>\n",
       "<table border=\"1\" class=\"dataframe\">\n",
       "  <thead>\n",
       "    <tr style=\"text-align: right;\">\n",
       "      <th></th>\n",
       "      <th>title</th>\n",
       "      <th>vote_count</th>\n",
       "      <th>vote_average</th>\n",
       "      <th>score</th>\n",
       "      <th>popularity</th>\n",
       "      <th>year</th>\n",
       "    </tr>\n",
       "  </thead>\n",
       "  <tbody>\n",
       "    <tr>\n",
       "      <td>77</td>\n",
       "      <td>Inside Out</td>\n",
       "      <td>6560</td>\n",
       "      <td>8.0</td>\n",
       "      <td>7.582514</td>\n",
       "      <td>128.655964</td>\n",
       "      <td>2015</td>\n",
       "    </tr>\n",
       "    <tr>\n",
       "      <td>2760</td>\n",
       "      <td>Room</td>\n",
       "      <td>2757</td>\n",
       "      <td>8.1</td>\n",
       "      <td>7.297062</td>\n",
       "      <td>66.113340</td>\n",
       "      <td>2015</td>\n",
       "    </tr>\n",
       "    <tr>\n",
       "      <td>270</td>\n",
       "      <td>The Martian</td>\n",
       "      <td>7268</td>\n",
       "      <td>7.6</td>\n",
       "      <td>7.295750</td>\n",
       "      <td>167.932870</td>\n",
       "      <td>2015</td>\n",
       "    </tr>\n",
       "    <tr>\n",
       "      <td>788</td>\n",
       "      <td>Deadpool</td>\n",
       "      <td>10995</td>\n",
       "      <td>7.4</td>\n",
       "      <td>7.212764</td>\n",
       "      <td>514.569956</td>\n",
       "      <td>2016</td>\n",
       "    </tr>\n",
       "    <tr>\n",
       "      <td>2752</td>\n",
       "      <td>Ex Machina</td>\n",
       "      <td>4737</td>\n",
       "      <td>7.6</td>\n",
       "      <td>7.178653</td>\n",
       "      <td>95.130041</td>\n",
       "      <td>2015</td>\n",
       "    </tr>\n",
       "    <tr>\n",
       "      <td>684</td>\n",
       "      <td>The Hateful Eight</td>\n",
       "      <td>4274</td>\n",
       "      <td>7.6</td>\n",
       "      <td>7.146741</td>\n",
       "      <td>68.717016</td>\n",
       "      <td>2015</td>\n",
       "    </tr>\n",
       "    <tr>\n",
       "      <td>2123</td>\n",
       "      <td>Spotlight</td>\n",
       "      <td>2686</td>\n",
       "      <td>7.8</td>\n",
       "      <td>7.106394</td>\n",
       "      <td>41.503588</td>\n",
       "      <td>2015</td>\n",
       "    </tr>\n",
       "    <tr>\n",
       "      <td>7</td>\n",
       "      <td>Avengers: Age of Ultron</td>\n",
       "      <td>6767</td>\n",
       "      <td>7.3</td>\n",
       "      <td>7.042150</td>\n",
       "      <td>134.279229</td>\n",
       "      <td>2015</td>\n",
       "    </tr>\n",
       "    <tr>\n",
       "      <td>176</td>\n",
       "      <td>The Revenant</td>\n",
       "      <td>6396</td>\n",
       "      <td>7.3</td>\n",
       "      <td>7.030534</td>\n",
       "      <td>100.635882</td>\n",
       "      <td>2015</td>\n",
       "    </tr>\n",
       "    <tr>\n",
       "      <td>127</td>\n",
       "      <td>Mad Max: Fury Road</td>\n",
       "      <td>9427</td>\n",
       "      <td>7.2</td>\n",
       "      <td>7.019355</td>\n",
       "      <td>434.278564</td>\n",
       "      <td>2015</td>\n",
       "    </tr>\n",
       "  </tbody>\n",
       "</table>\n",
       "</div>"
      ],
      "text/plain": [
       "                        title  vote_count  vote_average     score  popularity  \\\n",
       "77                 Inside Out        6560           8.0  7.582514  128.655964   \n",
       "2760                     Room        2757           8.1  7.297062   66.113340   \n",
       "270               The Martian        7268           7.6  7.295750  167.932870   \n",
       "788                  Deadpool       10995           7.4  7.212764  514.569956   \n",
       "2752               Ex Machina        4737           7.6  7.178653   95.130041   \n",
       "684         The Hateful Eight        4274           7.6  7.146741   68.717016   \n",
       "2123                Spotlight        2686           7.8  7.106394   41.503588   \n",
       "7     Avengers: Age of Ultron        6767           7.3  7.042150  134.279229   \n",
       "176              The Revenant        6396           7.3  7.030534  100.635882   \n",
       "127        Mad Max: Fury Road        9427           7.2  7.019355  434.278564   \n",
       "\n",
       "      year  \n",
       "77    2015  \n",
       "2760  2015  \n",
       "270   2015  \n",
       "788   2016  \n",
       "2752  2015  \n",
       "684   2015  \n",
       "2123  2015  \n",
       "7     2015  \n",
       "176   2015  \n",
       "127   2015  "
      ]
     },
     "execution_count": 17,
     "metadata": {},
     "output_type": "execute_result"
    }
   ],
   "source": [
    "estrenos = q_movies[ q_movies['year']>=2015 ]\n",
    "estrenos = estrenos[['title','vote_count','vote_average','score','popularity','year']].sort_values('score',axis=0, ascending=False)\n",
    "estrenos.head(10)"
   ]
  },
  {
   "cell_type": "markdown",
   "metadata": {
    "cell_id": "00021-52231028-a952-4693-835d-9ed6c4f6df2e",
    "deepnote_cell_type": "markdown",
    "slideshow": {
     "slide_type": "slide"
    },
    "tags": []
   },
   "source": [
    "## Filtración basada en contenido"
   ]
  },
  {
   "cell_type": "markdown",
   "metadata": {
    "cell_id": "00022-3017b336-e097-4b53-a9e7-dee1f2ae040e",
    "deepnote_cell_type": "markdown",
    "slideshow": {
     "slide_type": "subslide"
    },
    "tags": []
   },
   "source": [
    "Suponemos hay $3$ películas de distinto género y trama, pero que tienen similares elencos, \n",
    "directores, etc. Entonces, si a una persona le gusta una de esas peliculas, se le debería \n",
    "recomendar las $2$ restantes. Se puede generalizar a más películas y aplicar ciertos filtros \n",
    "que garanticen una recomendación exitosa y que sea adecuada a los gustos de cada persona."
   ]
  },
  {
   "cell_type": "markdown",
   "metadata": {
    "cell_id": "00023-39c9e8d3-8810-4014-9e97-2bdcc264eb03",
    "deepnote_cell_type": "markdown",
    "slideshow": {
     "slide_type": "slide"
    },
    "tags": []
   },
   "source": [
    "### Recomendación basada en el resumen de las películas"
   ]
  },
  {
   "cell_type": "code",
   "execution_count": 18,
   "metadata": {
    "cell_id": "00023-c14cc7a9-9593-434b-898a-998c44a6bbde",
    "deepnote_cell_type": "code",
    "deepnote_to_be_reexecuted": false,
    "execution_millis": 6,
    "execution_start": 1609812188683,
    "slideshow": {
     "slide_type": "subslide"
    },
    "source_hash": "8310e749",
    "tags": []
   },
   "outputs": [
    {
     "data": {
      "text/plain": [
       "0    In the 22nd century, a paraplegic Marine is di...\n",
       "1    Captain Barbossa, long believed to be dead, ha...\n",
       "2    A cryptic message from Bond’s past sends him o...\n",
       "3    Following the death of District Attorney Harve...\n",
       "4    John Carter is a war-weary, former military ca...\n",
       "Name: overview, dtype: object"
      ]
     },
     "execution_count": 18,
     "metadata": {},
     "output_type": "execute_result"
    }
   ],
   "source": [
    "df['overview'].head()"
   ]
  },
  {
   "cell_type": "markdown",
   "metadata": {
    "cell_id": "00025-a6ecf9c7-c70e-4468-b9d0-bd0882e08c5a",
    "deepnote_cell_type": "markdown",
    "slideshow": {
     "slide_type": "subslide"
    },
    "tags": []
   },
   "source": [
    "Cualquiera de ustedes que haya procesado un poco el texto antes sabe que debemos convertir \n",
    "el vector de palabras de cada descripción general. Ahora calcularemos los vectores de \n",
    "frecuencia de documento inversa de término (TF-IDF) para cada descripción general. \n",
    "Ahora, si se preguntan qué es frecuencia de término , es la frecuencia relativa de una palabra \n",
    "en un documento y se da como instancias de término/instancias totales. La frecuencia inversa \n",
    "del documento es el recuento relativo de los documentos que contienen el término, se da como \n",
    "log(número de documentos/documentos con plazo). La importancia general de cada palabra para los \n",
    "documentos en los que aparecen es igual a TF * IDF."
   ]
  },
  {
   "cell_type": "markdown",
   "metadata": {
    "cell_id": "00026-02e718d3-1fca-4e50-88d7-da3070e7404b",
    "deepnote_cell_type": "markdown",
    "slideshow": {
     "slide_type": "subslide"
    },
    "tags": []
   },
   "source": [
    "Esto le dará una matriz donde cada columna representa una palabra en el vocabulario general \n",
    "(todas las palabras que aparecen en al menos un documento) y cada fila representa una \n",
    "película. Esto se hace para reducir la importancia de las palabras que se producen \n",
    "con frecuencia en vistas generales de la trama y, por lo tanto, su importancia en el cálculo \n",
    "de la puntuación de similitud final. Afortunadamente, scikit-learn te ofrece una clase \n",
    "TfIdfVectorizer integrada que produce la matriz TF-IDF en un par de líneas."
   ]
  },
  {
   "cell_type": "code",
   "execution_count": 19,
   "metadata": {
    "cell_id": "00025-d6e61621-2d85-4481-b306-89874ed19552",
    "deepnote_cell_type": "code",
    "deepnote_to_be_reexecuted": false,
    "execution_millis": 246,
    "execution_start": 1609812192771,
    "slideshow": {
     "slide_type": "subslide"
    },
    "source_hash": "9c90cce2",
    "tags": []
   },
   "outputs": [
    {
     "data": {
      "text/plain": [
       "(4802, 20977)"
      ]
     },
     "execution_count": 19,
     "metadata": {},
     "output_type": "execute_result"
    }
   ],
   "source": [
    "from sklearn.feature_extraction.text import TfidfVectorizer\n",
    "\n",
    "#Define a TF-IDF Vectorizer Object. Remueve las palabras en ingles 'the', 'a'\n",
    "tfidf = TfidfVectorizer(stop_words='english')\n",
    "#Reemplaza NaN's con string vacios\n",
    "df['overview'] = df['overview'].fillna('')\n",
    "#Se construye la matriz TF-IDF\n",
    "tfidf_matrix = tfidf.fit_transform(df['overview'])\n",
    "\n",
    "#Retorno de tfidf_matrix (.shape)\n",
    "tfidf_matrix.shape"
   ]
  },
  {
   "cell_type": "markdown",
   "metadata": {
    "cell_id": "00036-84c14775-04bf-47b2-8929-c784bb0bc43a",
    "deepnote_cell_type": "markdown",
    "slideshow": {
     "slide_type": "subslide"
    },
    "tags": []
   },
   "source": [
    "Vemos que se utilizaron más de $21.000$ palabras diferentes para describir las $4803$ películas \n",
    "de nuestro conjunto de datos.\n",
    "\n",
    "Con esta matriz, podemos calcular una puntuación de similitud. Hay varios  candidatos para esto;\n",
    "como las puntuaciones de similitud euclidiana, de Pearson y del coseno. Usaremos la similitud \n",
    "del coseno para calcular una cantidad numérica que denota la similitud entre dos películas. \n",
    "Usamos la puntuación de similitud de coseno, ya que, es independiente de la magnitud y es \n",
    "relativamente fácil y rápida de calcular. Matemáticamente, se define de la siguiente manera:\n",
    "\n",
    "$\\cos (\\theta) = \\mathbf{A}\\cdot \\mathbf{B} (\\left \\| \\mathbf{A} \\right \\|\\left \\| \\mathbf{B} \\right \\|)^{-1} = \\sum_{i=0}^{n}A_{i}B_{i}(\\sqrt{\\sum_{i=0}^{n}A_{i}^{2}} \\sqrt{\\sum_{i=0}^{n}B_{i}^{2}})^{-1}$\n",
    "\n",
    "Ahora, usaremos `linear_kernel ()` de sklearn en lugar de `cosine_similarities()`, ya que, es más \n",
    "rápido.\n",
    "\n"
   ]
  },
  {
   "cell_type": "code",
   "execution_count": 20,
   "metadata": {
    "cell_id": "00025-bde5569a-7262-4e3a-b98d-c3589bf7762a",
    "deepnote_cell_type": "code",
    "deepnote_to_be_reexecuted": false,
    "execution_millis": 344,
    "execution_start": 1609812197598,
    "slideshow": {
     "slide_type": "subslide"
    },
    "source_hash": "2aa0ce7d",
    "tags": []
   },
   "outputs": [],
   "source": [
    "# Importa linear_kernel\n",
    "from sklearn.metrics.pairwise import linear_kernel\n",
    "\n",
    "# Calcula matriz de coseno-similitud\n",
    "cosine_sim = linear_kernel(tfidf_matrix, tfidf_matrix)"
   ]
  },
  {
   "cell_type": "markdown",
   "metadata": {
    "cell_id": "00038-1f12e8f2-e22b-416f-8e97-cb2557d3703a",
    "deepnote_cell_type": "markdown",
    "slideshow": {
     "slide_type": "subslide"
    },
    "tags": []
   },
   "source": [
    "Vamos a definir una función que toma el título de una película como entrada y genera una lista \n",
    "de las $10$ películas más similares. Para esto, necesitamos identificar el índice de una \n",
    "película en nuestro DataFrame dado su título.\n"
   ]
  },
  {
   "cell_type": "code",
   "execution_count": 21,
   "metadata": {
    "cell_id": "00025-99fb65bf-e98d-4ef8-821b-fc186376e9b1",
    "deepnote_cell_type": "code",
    "deepnote_to_be_reexecuted": false,
    "execution_millis": 3,
    "execution_start": 1609812199355,
    "slideshow": {
     "slide_type": "subslide"
    },
    "source_hash": "3be12d11",
    "tags": []
   },
   "outputs": [],
   "source": [
    "indices = pd.Series(df.index, index=df['title']).drop_duplicates()"
   ]
  },
  {
   "cell_type": "markdown",
   "metadata": {
    "cell_id": "00040-cd33054b-c4de-467c-a617-fee6df7b3221",
    "deepnote_cell_type": "markdown",
    "slideshow": {
     "slide_type": "subslide"
    },
    "tags": []
   },
   "source": [
    "Para definir la función de recomendaciones, seguiremos los siguientes pasos:\n",
    "\n",
    "* `Paso 1`: Obtener el índice de la película dado su título.\n",
    "* `Paso 2`: Obtener la lista de puntuaciones de similitud de coseno para esa película en \n",
    "particular con todas las películas. Luego, obtener una lista de tuplas  donde el primer \n",
    "elemento es su posición y el segundo es la puntuación de similitud.\n",
    "* `Paso 3`: Ordenar la lista de tuplas en función de las puntuaciones de similitud.\n",
    "* `Paso 4`: Obtener los $10$ elementos principales de esta lista.\n",
    "* `Paso 5`: Devuelve los títulos correspondientes a los índices de los elementos superiores.\n",
    "\n"
   ]
  },
  {
   "cell_type": "code",
   "execution_count": 22,
   "metadata": {
    "cell_id": "00030-fcb24c45-b3c3-41af-b2be-a5b1c29124c4",
    "deepnote_cell_type": "code",
    "deepnote_to_be_reexecuted": false,
    "execution_millis": 1,
    "execution_start": 1609812203030,
    "slideshow": {
     "slide_type": "subslide"
    },
    "source_hash": "902195e8",
    "tags": []
   },
   "outputs": [],
   "source": [
    "def get_recommendations(title, cosine_sim=cosine_sim):\n",
    "    #Obtiene el índice de la película que coincide con el título\n",
    "    idx = indices[title]\n",
    "\n",
    "    #Obtiene las puntuaciones de similitud\n",
    "    sim_scores = list(enumerate(cosine_sim[idx]))\n",
    "\n",
    "    #Ordena las películas según las puntuaciones de similitud\n",
    "    sim_scores = sorted(sim_scores, key=lambda x: x[1], reverse=True)\n",
    "\n",
    "    #Obtiene las puntuaciones de las 10 películas más similares\n",
    "    sim_scores = sim_scores[1:11]\n",
    "\n",
    "    #Obtiene los índices de películas\n",
    "    movie_indices = [i[0] for i in sim_scores]\n",
    "\n",
    "    #Devuelve el top 10 de películas más similares\n",
    "    return df['title'].iloc[movie_indices]"
   ]
  },
  {
   "cell_type": "code",
   "execution_count": 23,
   "metadata": {
    "cell_id": "00030-07792ab0-6821-4dc4-8452-03b924d9c943",
    "deepnote_cell_type": "code",
    "deepnote_to_be_reexecuted": false,
    "execution_millis": 3,
    "execution_start": 1609812204321,
    "slideshow": {
     "slide_type": "subslide"
    },
    "source_hash": "8e87cc08",
    "tags": []
   },
   "outputs": [
    {
     "data": {
      "text/plain": [
       "3526            The Sting\n",
       "3194       All or Nothing\n",
       "3466        Sliding Doors\n",
       "4624            Locker 13\n",
       "2917          The Fighter\n",
       "4036            Antibirth\n",
       "3491         The Wackness\n",
       "2849             Nebraska\n",
       "3504                11:14\n",
       "3346    Jumping the Broom\n",
       "Name: title, dtype: object"
      ]
     },
     "execution_count": 23,
     "metadata": {},
     "output_type": "execute_result"
    }
   ],
   "source": [
    "get_recommendations('Pulp Fiction')"
   ]
  },
  {
   "cell_type": "markdown",
   "metadata": {
    "cell_id": "00043-f5c2eeb9-18b3-4fad-9ace-508233af37c1",
    "deepnote_cell_type": "markdown",
    "slideshow": {
     "slide_type": "subslide"
    },
    "tags": []
   },
   "source": [
    "El sistema de recomendación creado cumple con su función de encontrar películas con descripciones\n",
    "similares. Pero si tenemos una saga de películas, como The Avengers, Batman, Spider Man, entre \n",
    "otras, el sistema de recomendación retornaría toda la saga, pero quizás las personas buscan \n",
    "películas similares en cuanto a los directores, género o alguna otra característica.\n",
    "\n"
   ]
  },
  {
   "cell_type": "markdown",
   "metadata": {
    "cell_id": "00032-152707ce-7979-4661-b04c-040f7aa93873",
    "deepnote_cell_type": "markdown",
    "slideshow": {
     "slide_type": "slide"
    },
    "tags": []
   },
   "source": [
    "### Recomendación basada en créditos, géneros, y palabras clave"
   ]
  },
  {
   "cell_type": "markdown",
   "metadata": {
    "cell_id": "00045-2dfb3297-e3d6-4d92-9b53-f7ac4d55452f",
    "deepnote_cell_type": "markdown",
    "slideshow": {
     "slide_type": "subslide"
    },
    "tags": []
   },
   "source": [
    "Vamos a construir un recomendador basado en los siguientes datos: `3 actores principales`, \n",
    "`Director`, `Géneros relacionados` y las `Palabras clave` de la trama de la película."
   ]
  },
  {
   "cell_type": "code",
   "execution_count": 24,
   "metadata": {
    "cell_id": "00033-f9b9aafc-10d3-433d-a2b0-24f955d9d611",
    "deepnote_cell_type": "code",
    "deepnote_to_be_reexecuted": false,
    "execution_millis": 9184,
    "execution_start": 1609812208333,
    "slideshow": {
     "slide_type": "subslide"
    },
    "source_hash": "216c8c97",
    "tags": []
   },
   "outputs": [],
   "source": [
    "# Analizamos las características en cadena \n",
    "from ast import literal_eval\n",
    "\n",
    "features = ['cast', 'crew', 'keywords', 'genres']\n",
    "for feature in features:\n",
    "    df[feature] = df[feature].apply(literal_eval)"
   ]
  },
  {
   "cell_type": "code",
   "execution_count": 25,
   "metadata": {
    "cell_id": "00030-9d73e81d-0b41-45c8-bf37-8326059e9c11",
    "deepnote_cell_type": "code",
    "deepnote_to_be_reexecuted": false,
    "execution_millis": 4,
    "execution_start": 1609812219018,
    "slideshow": {
     "slide_type": "subslide"
    },
    "source_hash": "61b5c3a4",
    "tags": []
   },
   "outputs": [],
   "source": [
    "def get_director(x):\n",
    "    for i in x:\n",
    "        if i['job'] == 'Director':\n",
    "            return i['name']\n",
    "    return np.nan\n",
    "\n",
    "# Devuelve los 3 elementos principales de la lista o la lista completa.\n",
    "def get_list(x):\n",
    "    if isinstance(x, list):\n",
    "        names = [i['name'] for i in x]\n",
    "        #Compruebe si existen más de 3 elementos. En caso afirmativo, devuelva solo los tres primeros. Si no, devuelva la lista completa..\n",
    "        if len(names) > 3:\n",
    "            names = names[:3]\n",
    "        return names\n",
    "\n",
    "    #Devuelve una lista vacía en caso de datos faltantes o mal formados.\n",
    "    return []"
   ]
  },
  {
   "cell_type": "code",
   "execution_count": 26,
   "metadata": {
    "cell_id": "00035-159e3140-ec69-4bc0-bf1f-9f8c69ab6b8d",
    "deepnote_cell_type": "code",
    "deepnote_to_be_reexecuted": false,
    "execution_millis": 102,
    "execution_start": 1609812220566,
    "slideshow": {
     "slide_type": "subslide"
    },
    "source_hash": "98bee75f",
    "tags": []
   },
   "outputs": [],
   "source": [
    "df['director'] = df['crew'].apply(get_director)\n",
    "\n",
    "features = ['cast', 'keywords', 'genres']\n",
    "for feature in features:\n",
    "    df[feature] = df[feature].apply(get_list)"
   ]
  },
  {
   "cell_type": "code",
   "execution_count": 27,
   "metadata": {
    "cell_id": "00035-30010b9f-2819-4d4b-9b67-15fdf10fe066",
    "deepnote_cell_type": "code",
    "deepnote_to_be_reexecuted": false,
    "execution_millis": 27,
    "execution_start": 1609812221393,
    "slideshow": {
     "slide_type": "subslide"
    },
    "source_hash": "d689c6c5",
    "tags": []
   },
   "outputs": [
    {
     "data": {
      "text/html": [
       "<div>\n",
       "<style scoped>\n",
       "    .dataframe tbody tr th:only-of-type {\n",
       "        vertical-align: middle;\n",
       "    }\n",
       "\n",
       "    .dataframe tbody tr th {\n",
       "        vertical-align: top;\n",
       "    }\n",
       "\n",
       "    .dataframe thead th {\n",
       "        text-align: right;\n",
       "    }\n",
       "</style>\n",
       "<table border=\"1\" class=\"dataframe\">\n",
       "  <thead>\n",
       "    <tr style=\"text-align: right;\">\n",
       "      <th></th>\n",
       "      <th>title</th>\n",
       "      <th>cast</th>\n",
       "      <th>director</th>\n",
       "      <th>keywords</th>\n",
       "      <th>genres</th>\n",
       "    </tr>\n",
       "  </thead>\n",
       "  <tbody>\n",
       "    <tr>\n",
       "      <td>0</td>\n",
       "      <td>Avatar</td>\n",
       "      <td>[Sam Worthington, Zoe Saldana, Sigourney Weaver]</td>\n",
       "      <td>James Cameron</td>\n",
       "      <td>[culture clash, future, space war]</td>\n",
       "      <td>[Action, Adventure, Fantasy]</td>\n",
       "    </tr>\n",
       "    <tr>\n",
       "      <td>1</td>\n",
       "      <td>Pirates of the Caribbean: At World's End</td>\n",
       "      <td>[Johnny Depp, Orlando Bloom, Keira Knightley]</td>\n",
       "      <td>Gore Verbinski</td>\n",
       "      <td>[ocean, drug abuse, exotic island]</td>\n",
       "      <td>[Adventure, Fantasy, Action]</td>\n",
       "    </tr>\n",
       "    <tr>\n",
       "      <td>2</td>\n",
       "      <td>Spectre</td>\n",
       "      <td>[Daniel Craig, Christoph Waltz, Léa Seydoux]</td>\n",
       "      <td>Sam Mendes</td>\n",
       "      <td>[spy, based on novel, secret agent]</td>\n",
       "      <td>[Action, Adventure, Crime]</td>\n",
       "    </tr>\n",
       "  </tbody>\n",
       "</table>\n",
       "</div>"
      ],
      "text/plain": [
       "                                      title  \\\n",
       "0                                    Avatar   \n",
       "1  Pirates of the Caribbean: At World's End   \n",
       "2                                   Spectre   \n",
       "\n",
       "                                               cast        director  \\\n",
       "0  [Sam Worthington, Zoe Saldana, Sigourney Weaver]   James Cameron   \n",
       "1     [Johnny Depp, Orlando Bloom, Keira Knightley]  Gore Verbinski   \n",
       "2      [Daniel Craig, Christoph Waltz, Léa Seydoux]      Sam Mendes   \n",
       "\n",
       "                              keywords                        genres  \n",
       "0   [culture clash, future, space war]  [Action, Adventure, Fantasy]  \n",
       "1   [ocean, drug abuse, exotic island]  [Adventure, Fantasy, Action]  \n",
       "2  [spy, based on novel, secret agent]    [Action, Adventure, Crime]  "
      ]
     },
     "execution_count": 27,
     "metadata": {},
     "output_type": "execute_result"
    }
   ],
   "source": [
    "df[['title', 'cast', 'director', 'keywords', 'genres']].head(3)"
   ]
  },
  {
   "cell_type": "markdown",
   "metadata": {
    "cell_id": "00050-d5b08164-738a-4804-b576-ac52cf6d4b08",
    "deepnote_cell_type": "markdown",
    "slideshow": {
     "slide_type": "subslide"
    },
    "tags": []
   },
   "source": [
    "El siguiente paso sería convertir los nombres y las instancias de palabras clave en minúsculas \n",
    "y eliminar todos los espacios entre ellos. Esto se hace para que nuestro sistema no cuente \n",
    "`Johnny` de `Johnny Dep` y `Johnny Galecki` como el mismo."
   ]
  },
  {
   "cell_type": "code",
   "execution_count": 28,
   "metadata": {
    "cell_id": "00035-d7ac13aa-8466-47f7-898e-9131788cfe01",
    "deepnote_cell_type": "code",
    "deepnote_to_be_reexecuted": false,
    "execution_millis": 1,
    "execution_start": 1609812225156,
    "slideshow": {
     "slide_type": "subslide"
    },
    "source_hash": "ac4bbd29",
    "tags": []
   },
   "outputs": [],
   "source": [
    "#Función que convierte todos los string a minúsculas\n",
    "def clean_data(x):\n",
    "    if isinstance(x, list):\n",
    "        return [str.lower(i.replace(\" \", \"\")) for i in x]\n",
    "    else:\n",
    "        #Compruebe si existe el director. Si no, devuelve un string vacío\n",
    "        if isinstance(x, str):\n",
    "            return str.lower(x.replace(\" \", \"\"))\n",
    "        else:\n",
    "            return ''"
   ]
  },
  {
   "cell_type": "code",
   "execution_count": 29,
   "metadata": {
    "cell_id": "00038-f2f148e9-6a89-4687-85c2-4a52ddbcacf9",
    "deepnote_cell_type": "code",
    "deepnote_to_be_reexecuted": false,
    "execution_millis": 54,
    "execution_start": 1609812226074,
    "slideshow": {
     "slide_type": "subslide"
    },
    "source_hash": "c97ad185",
    "tags": []
   },
   "outputs": [],
   "source": [
    "#Aplica la función clean_data.\n",
    "features = ['cast', 'keywords', 'director', 'genres']\n",
    "\n",
    "for feature in features:\n",
    "    df[feature] = df[feature].apply(clean_data)"
   ]
  },
  {
   "cell_type": "markdown",
   "metadata": {
    "cell_id": "00053-9a9dfb8b-958a-405f-b898-84d7d7c25ce4",
    "deepnote_cell_type": "markdown",
    "slideshow": {
     "slide_type": "subslide"
    },
    "tags": []
   },
   "source": [
    "Ahora estamos en condiciones de crear una cadena de datos que contiene todos los metadatos \n",
    "que queremos alimentar a nuestro vectorizador (a saber, actores, director y palabras clave)."
   ]
  },
  {
   "cell_type": "code",
   "execution_count": 30,
   "metadata": {
    "cell_id": "00038-f08c2b8b-eb4e-4f15-b5ff-415800baa129",
    "deepnote_cell_type": "code",
    "deepnote_to_be_reexecuted": false,
    "execution_millis": 386,
    "execution_start": 1609812229745,
    "slideshow": {
     "slide_type": "subslide"
    },
    "source_hash": "dfb2c27c",
    "tags": []
   },
   "outputs": [],
   "source": [
    "def create_soup(x):\n",
    "    return ' '.join(x['keywords']) + ' ' + ' '.join(x['cast']) + ' ' + x['director'] + ' ' + ' '.join(x['genres'])\n",
    "df['soup'] = df.apply(create_soup, axis=1)"
   ]
  },
  {
   "cell_type": "markdown",
   "metadata": {
    "cell_id": "00055-5c6fcde7-1e71-4ad4-b338-24328efcaa75",
    "deepnote_cell_type": "markdown",
    "slideshow": {
     "slide_type": "subslide"
    },
    "tags": []
   },
   "source": [
    "\n",
    "Los siguientes pasos son los mismos que hicimos con nuestro recomendador basado en la \n",
    "descripción de la trama."
   ]
  },
  {
   "cell_type": "code",
   "execution_count": 31,
   "metadata": {
    "cell_id": "00038-151fee63-ee95-408d-b2ea-716cfcc539e8",
    "deepnote_cell_type": "code",
    "deepnote_to_be_reexecuted": false,
    "execution_millis": 30,
    "execution_start": 1609812232830,
    "slideshow": {
     "slide_type": "subslide"
    },
    "source_hash": "13656ae8",
    "tags": []
   },
   "outputs": [],
   "source": [
    "from sklearn.feature_extraction.text import CountVectorizer\n",
    "count = CountVectorizer(stop_words='english')\n",
    "count_matrix = count.fit_transform(df['soup'])"
   ]
  },
  {
   "cell_type": "code",
   "execution_count": 32,
   "metadata": {
    "cell_id": "00038-73b0a2ae-c824-409a-b1c4-50776b1a6127",
    "deepnote_cell_type": "code",
    "deepnote_to_be_reexecuted": false,
    "execution_millis": 364,
    "execution_start": 1609812234362,
    "slideshow": {
     "slide_type": "subslide"
    },
    "source_hash": "2a0baf00",
    "tags": []
   },
   "outputs": [],
   "source": [
    "from sklearn.metrics.pairwise import cosine_similarity\n",
    "cosine_sim2 = cosine_similarity(count_matrix, count_matrix)"
   ]
  },
  {
   "cell_type": "code",
   "execution_count": 33,
   "metadata": {
    "cell_id": "00038-9bfb10c3-9812-4eeb-a94f-298cca6008b3",
    "deepnote_cell_type": "code",
    "deepnote_to_be_reexecuted": false,
    "execution_millis": 9,
    "execution_start": 1609812235027,
    "slideshow": {
     "slide_type": "subslide"
    },
    "source_hash": "2868f07",
    "tags": []
   },
   "outputs": [],
   "source": [
    "df = df.reset_index()\n",
    "indices = pd.Series(df.index, index=df['title'])"
   ]
  },
  {
   "cell_type": "code",
   "execution_count": 34,
   "metadata": {
    "cell_id": "00038-86188d26-f3a7-4b30-8570-30edeb77d2b1",
    "deepnote_cell_type": "code",
    "deepnote_to_be_reexecuted": false,
    "execution_millis": 5,
    "execution_start": 1609812236404,
    "slideshow": {
     "slide_type": "subslide"
    },
    "source_hash": "9c5d7535",
    "tags": []
   },
   "outputs": [
    {
     "data": {
      "text/plain": [
       "65               The Dark Knight\n",
       "119                Batman Begins\n",
       "4637    Amidst the Devil's Wings\n",
       "1196                The Prestige\n",
       "3073           Romeo Is Bleeding\n",
       "3326              Black November\n",
       "1503                      Takers\n",
       "1986                      Faster\n",
       "303                     Catwoman\n",
       "747               Gangster Squad\n",
       "Name: title, dtype: object"
      ]
     },
     "execution_count": 34,
     "metadata": {},
     "output_type": "execute_result"
    }
   ],
   "source": [
    "get_recommendations('The Dark Knight Rises', cosine_sim2)"
   ]
  },
  {
   "cell_type": "code",
   "execution_count": 35,
   "metadata": {
    "cell_id": "00044-7ed090a5-679d-47cd-8b63-1d12f61041dc",
    "deepnote_cell_type": "code",
    "deepnote_to_be_reexecuted": false,
    "execution_millis": 3,
    "execution_start": 1609812238412,
    "slideshow": {
     "slide_type": "subslide"
    },
    "source_hash": "dab9a4cb",
    "tags": []
   },
   "outputs": [
    {
     "data": {
      "text/plain": [
       "867      The Godfather: Part III\n",
       "2731      The Godfather: Part II\n",
       "4637    Amidst the Devil's Wings\n",
       "2649           The Son of No One\n",
       "1525              Apocalypse Now\n",
       "1018             The Cotton Club\n",
       "1170     The Talented Mr. Ripley\n",
       "1209               The Rainmaker\n",
       "1394               Donnie Brasco\n",
       "1850                    Scarface\n",
       "Name: title, dtype: object"
      ]
     },
     "execution_count": 35,
     "metadata": {},
     "output_type": "execute_result"
    }
   ],
   "source": [
    "get_recommendations('The Godfather', cosine_sim2)"
   ]
  },
  {
   "cell_type": "markdown",
   "metadata": {
    "cell_id": "00061-d14ec10e-8260-4f6c-bfef-33e5e4315d30",
    "deepnote_cell_type": "markdown",
    "slideshow": {
     "slide_type": "subslide"
    },
    "tags": []
   },
   "source": [
    "Vemos que nuestro recomendador ha logrado capturar más información debido a más características \n",
    "y nos ha dado mejores recomendaciones. Es más probable que a los fanáticos de Marvel o DC les \n",
    "gusten las películas de la misma casa de producción. Por lo tanto, a nuestras características \n",
    "anteriores podemos agregar `production_company`.\n"
   ]
  },
  {
   "cell_type": "markdown",
   "metadata": {
    "cell_id": "00008-a1e2c62d-b1b8-4fa7-8be5-3dc77d4ae073",
    "deepnote_cell_type": "markdown",
    "slideshow": {
     "slide_type": "skip"
    }
   },
   "source": [
    "### Apoyo\n",
    "\n",
    "Para que la carga del proyecto sea lo más amena posible, se les deja las siguientes referencias:\n",
    "\n",
    "* **Sistema de recomendación**: Pueden tomar como referencia el proyecto de Kaggle [Getting Started with a Movie Recommendation System](https://www.kaggle.com/ibtesama/getting-started-with-a-movie-recommendation-system/data?select=tmdb_5000_credits.csv). \n",
    "*  **RISE**: Les dejo un video del Profesor Sebastían Flores denomindo *Presentaciones y encuestas interactivas en jupyter notebooks y RISE* ([link](https://www.youtube.com/watch?v=ekyN9DDswBE&ab_channel=PyConColombia)). Este material les puede ayudar para comprender mejor este nuevo concepto."
   ]
  }
 ],
 "metadata": {
  "celltoolbar": "Slideshow",
  "deepnote_execution_queue": [],
  "deepnote_notebook_id": "115cea79-8e69-4f4a-9772-1b609d8f487f",
  "kernelspec": {
   "display_name": "Python 3",
   "language": "python",
   "name": "python3"
  },
  "language_info": {
   "codemirror_mode": {
    "name": "ipython",
    "version": 3
   },
   "file_extension": ".py",
   "mimetype": "text/x-python",
   "name": "python",
   "nbconvert_exporter": "python",
   "pygments_lexer": "ipython3",
   "version": "3.7.4"
  }
 },
 "nbformat": 4,
 "nbformat_minor": 4
}
